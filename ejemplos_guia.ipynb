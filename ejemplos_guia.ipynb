{
 "cells": [
  {
   "cell_type": "markdown",
   "id": "8ec55e8b",
   "metadata": {},
   "source": [
    "<h1> <center> Protección de datos sensibles </center> </h1> \n",
    "\n",
    "Este notebook es parte de una guía práctica con algunos lineamientos para tener en cuenta al realizar intercambios de datos o publicar datos que contienen información de carácter sensible. Contiene la aplicación de técnicas presentadas conceptualmente con anterioridad, y propone el uso de herramientas ejemplificadas en el lenguaje Python sin intentar ser una solución completamente abarcativa a problemas de anonimización."
   ]
  },
  {
   "cell_type": "code",
   "execution_count": 1,
   "id": "690d091b",
   "metadata": {},
   "outputs": [],
   "source": [
    "### En caso de que no tengan instalados los siguientes paquetes, se deberán correr las siguientes líneas.\n",
    "# !pip install scrubadub\n",
    "# !pip install scrubadub_spacy\n",
    "# !pip install spacy-transformers"
   ]
  },
  {
   "cell_type": "markdown",
   "id": "84d85581",
   "metadata": {},
   "source": [
    "### Scrubadub\n",
    "\n",
    "Esta [librería](https://scrubadub.readthedocs.io/en/stable/) permite quitar información personal de textos. Esto incluye nombres, emails, urls, usuarios de Twitter o Instagram, fechas de nacimiento, entre otros. Es útil para tratar aquellos campos que tengamos donde se tenga un texto con partes a enmascarar."
   ]
  },
  {
   "cell_type": "code",
   "execution_count": 2,
   "id": "9d3a6f09",
   "metadata": {},
   "outputs": [],
   "source": [
    "import pandas as pd\n",
    "\n",
    "### Importar librerías y paquetes necesarios para usar scrubadub y spacy\n",
    "import scrubadub, scrubadub_spacy\n",
    "import spacy_transformers\n",
    "\n",
    "### Se importa la librería de hashing\n",
    "import hashlib"
   ]
  },
  {
   "cell_type": "code",
   "execution_count": 3,
   "id": "7dd1b21b",
   "metadata": {},
   "outputs": [],
   "source": [
    "### Se inicializa el scrubber con la localización del país para que reconozca características específicas, como números de teléfono.\n",
    "scrubber = scrubadub.Scrubber()\n",
    "\n",
    "### Se agrega el detector elegido\n",
    "scrubber.add_detector(scrubadub_spacy.detectors.SpacyEntityDetector(model = \"es_core_news_md\"))"
   ]
  },
  {
   "cell_type": "code",
   "execution_count": 4,
   "id": "2c16227e",
   "metadata": {},
   "outputs": [
    {
     "data": {
      "text/plain": [
       "'Mi nombre es {{NAME}}'"
      ]
     },
     "execution_count": 4,
     "metadata": {},
     "output_type": "execute_result"
    }
   ],
   "source": [
    "### Se limpia el texto elegido\n",
    "scrubber.clean(\"Mi nombre es Juan González\")"
   ]
  },
  {
   "cell_type": "code",
   "execution_count": 5,
   "id": "3301659a",
   "metadata": {},
   "outputs": [
    {
     "name": "stdout",
     "output_type": "stream",
     "text": [
      "contactar a  {{NAME}} al {{PHONE}}\n",
      "contactar a  {{NAME}} al {{PHONE}}\n",
      "contactar a  {{NAME}} al {{PHONE}}\n",
      "contactar a  {{NAME}} al {{PHONE}}\n",
      "contactar a  {{NAME}} al {{PHONE}}\n",
      "contactar a  {{NAME}} al {{PHONE}}\n"
     ]
    }
   ],
   "source": [
    "### Se agrega el locale para que reconozca números de teléfono\n",
    "scrubber = scrubadub.Scrubber(locale='es_AR')\n",
    "detector = scrubadub_spacy.detectors.SpacyEntityDetector(model='es_core_news_md')\n",
    "scrubber.add_detector(detector)\n",
    "text = \"contactar a  Emanuel Pereira al 011-81367886\"\n",
    "scrubber.clean(text)\n",
    "text = \"contactar a  Emanuel Pereira al 011 8136 7886\"\n",
    "print(scrubber.clean(text))\n",
    "text = \"contactar a  Emanuel Pereira al 011 81367886\"\n",
    "print(scrubber.clean(text))\n",
    "text = \"contactar a  Emanuel Pereira al 011-8136-7886\"\n",
    "print(scrubber.clean(text))\n",
    "text = \"contactar a  Emanuel Pereira al 011-15-8136-7886\"\n",
    "print(scrubber.clean(text))\n",
    "text = \"contactar a  Emanuel Pereira al 0348-4352206\"\n",
    "print(scrubber.clean(text))\n",
    "text = \"contactar a  Emanuel Pereira al 0348-15-4352206\"\n",
    "print(scrubber.clean(text))"
   ]
  },
  {
   "cell_type": "code",
   "execution_count": 6,
   "id": "8f5d78f7",
   "metadata": {},
   "outputs": [
    {
     "data": {
      "text/plain": [
       "'Mi nombre es {{NAME}} y mi mail {{EMAIL}}, usuario {{TWITTER}}. Sitio web: {{URL}} Mi celular es {{PHONE}}'"
      ]
     },
     "execution_count": 6,
     "metadata": {},
     "output_type": "execute_result"
    }
   ],
   "source": [
    "### Revisión de cómo funciona cuando ingresamos emails, usuarios de redes sociales y teléfonos\n",
    "\n",
    "scrubber.clean(\"Mi nombre es Juan González y mi mail juan@gmail.com, usuario @juan1. Sitio web: www.sitiojuan.com.arg Mi celular es 011 55550022\")"
   ]
  },
  {
   "cell_type": "markdown",
   "id": "80d6ed4a",
   "metadata": {},
   "source": [
    "### Hashing\n",
    "\n",
    "Hashlib es una [librería](https://docs.python.org/3/library/hashlib.html) de Python que permite encriptar datos con una serie de distintos algoritmos, detallados en el link. Los algoritmos de hashing son funciones matemáticas usadas para transformar datos en valores o códigos hash y que sea imposible identificar el contenido original de ese dato. El hashing es una operación unidireccional en el que los valores ingresados son transformados a un código hash de longitud finita que no puede revertirse."
   ]
  },
  {
   "cell_type": "code",
   "execution_count": 7,
   "id": "8a15eb78",
   "metadata": {},
   "outputs": [
    {
     "data": {
      "text/html": [
       "<div>\n",
       "<style scoped>\n",
       "    .dataframe tbody tr th:only-of-type {\n",
       "        vertical-align: middle;\n",
       "    }\n",
       "\n",
       "    .dataframe tbody tr th {\n",
       "        vertical-align: top;\n",
       "    }\n",
       "\n",
       "    .dataframe thead th {\n",
       "        text-align: right;\n",
       "    }\n",
       "</style>\n",
       "<table border=\"1\" class=\"dataframe\">\n",
       "  <thead>\n",
       "    <tr style=\"text-align: right;\">\n",
       "      <th></th>\n",
       "      <th>Jurisdicción</th>\n",
       "    </tr>\n",
       "  </thead>\n",
       "  <tbody>\n",
       "    <tr>\n",
       "      <th>0</th>\n",
       "      <td>Buenos Aires</td>\n",
       "    </tr>\n",
       "    <tr>\n",
       "      <th>1</th>\n",
       "      <td>Córdoba</td>\n",
       "    </tr>\n",
       "    <tr>\n",
       "      <th>2</th>\n",
       "      <td>San Juan</td>\n",
       "    </tr>\n",
       "    <tr>\n",
       "      <th>3</th>\n",
       "      <td>Buenos Aires</td>\n",
       "    </tr>\n",
       "    <tr>\n",
       "      <th>4</th>\n",
       "      <td>Buenos Aires</td>\n",
       "    </tr>\n",
       "    <tr>\n",
       "      <th>5</th>\n",
       "      <td>Córdoba</td>\n",
       "    </tr>\n",
       "    <tr>\n",
       "      <th>6</th>\n",
       "      <td>Entre Ríos</td>\n",
       "    </tr>\n",
       "  </tbody>\n",
       "</table>\n",
       "</div>"
      ],
      "text/plain": [
       "   Jurisdicción\n",
       "0  Buenos Aires\n",
       "1       Córdoba\n",
       "2      San Juan\n",
       "3  Buenos Aires\n",
       "4  Buenos Aires\n",
       "5       Córdoba\n",
       "6    Entre Ríos"
      ]
     },
     "execution_count": 7,
     "metadata": {},
     "output_type": "execute_result"
    }
   ],
   "source": [
    "### Se crea un dataframe de ejemplo con las jurisdicciones\n",
    "dic = {'Jurisdicción':['Buenos Aires', 'Córdoba', 'San Juan', 'Buenos Aires', 'Buenos Aires', 'Córdoba', 'Entre Ríos']}\n",
    "df = pd.DataFrame(data = dic)\n",
    "df"
   ]
  },
  {
   "cell_type": "code",
   "execution_count": 8,
   "id": "00d0e930",
   "metadata": {},
   "outputs": [
    {
     "data": {
      "text/plain": [
       "0    abae768240354770b732e87de24a76aa3123c0abbe7f4e...\n",
       "1    263bcb39796e48285ae952fb25ddb5550242fc8d3bafae...\n",
       "2    0c754c271376cd8bdaf8e93edba2c6e034afa14925d617...\n",
       "3    abae768240354770b732e87de24a76aa3123c0abbe7f4e...\n",
       "4    abae768240354770b732e87de24a76aa3123c0abbe7f4e...\n",
       "5    263bcb39796e48285ae952fb25ddb5550242fc8d3bafae...\n",
       "6    b50525cee17c74a8416f580e965be92058b7792a3ebf46...\n",
       "Name: Jurisdicción, dtype: object"
      ]
     },
     "execution_count": 8,
     "metadata": {},
     "output_type": "execute_result"
    }
   ],
   "source": [
    "### Como ejemplo se utiliza un hashing con sha256.\n",
    "df['Jurisdicción'].apply(lambda x: x.encode()).apply(hashlib.sha256).apply(lambda x: x.hexdigest())"
   ]
  }
 ],
 "metadata": {
  "kernelspec": {
   "display_name": "Python 3 (ipykernel)",
   "language": "python",
   "name": "python3"
  },
  "language_info": {
   "codemirror_mode": {
    "name": "ipython",
    "version": 3
   },
   "file_extension": ".py",
   "mimetype": "text/x-python",
   "name": "python",
   "nbconvert_exporter": "python",
   "pygments_lexer": "ipython3",
   "version": "3.9.7"
  }
 },
 "nbformat": 4,
 "nbformat_minor": 5
}
